{
  "cells": [
    {
      "cell_type": "code",
      "execution_count": null,
      "metadata": {
        "colab": {
          "base_uri": "https://localhost:8080/"
        },
        "id": "eAyK9QnvEHko",
        "outputId": "178aa206-90d7-474e-9d83-63919847a51e"
      },
      "outputs": [
        {
          "name": "stdout",
          "output_type": "stream",
          "text": [
            "Collecting conllu\n",
            "  Downloading conllu-6.0.0-py3-none-any.whl.metadata (21 kB)\n",
            "Collecting seqeval\n",
            "  Downloading seqeval-1.2.2.tar.gz (43 kB)\n",
            "\u001b[?25l     \u001b[90m━━━━━━━━━━━━━━━━━━━━━━━━━━━━━━━━━━━━━━━━\u001b[0m \u001b[32m0.0/43.6 kB\u001b[0m \u001b[31m?\u001b[0m eta \u001b[36m-:--:--\u001b[0m\r\u001b[2K     \u001b[90m━━━━━━━━━━━━━━━━━━━━━━━━━━━━━━━━━━━━━━━━\u001b[0m \u001b[32m43.6/43.6 kB\u001b[0m \u001b[31m1.6 MB/s\u001b[0m eta \u001b[36m0:00:00\u001b[0m\n",
            "\u001b[?25h  Preparing metadata (setup.py) ... \u001b[?25l\u001b[?25hdone\n",
            "Requirement already satisfied: numpy>=1.14.0 in /usr/local/lib/python3.11/dist-packages (from seqeval) (2.0.2)\n",
            "Requirement already satisfied: scikit-learn>=0.21.3 in /usr/local/lib/python3.11/dist-packages (from seqeval) (1.6.1)\n",
            "Requirement already satisfied: scipy>=1.6.0 in /usr/local/lib/python3.11/dist-packages (from scikit-learn>=0.21.3->seqeval) (1.15.2)\n",
            "Requirement already satisfied: joblib>=1.2.0 in /usr/local/lib/python3.11/dist-packages (from scikit-learn>=0.21.3->seqeval) (1.4.2)\n",
            "Requirement already satisfied: threadpoolctl>=3.1.0 in /usr/local/lib/python3.11/dist-packages (from scikit-learn>=0.21.3->seqeval) (3.6.0)\n",
            "Downloading conllu-6.0.0-py3-none-any.whl (16 kB)\n",
            "Building wheels for collected packages: seqeval\n",
            "  Building wheel for seqeval (setup.py) ... \u001b[?25l\u001b[?25hdone\n",
            "  Created wheel for seqeval: filename=seqeval-1.2.2-py3-none-any.whl size=16162 sha256=0c701dc59439b21760246a5bd76ddf68b10cf3845649ef27dc014b5c1bfcdbc0\n",
            "  Stored in directory: /root/.cache/pip/wheels/bc/92/f0/243288f899c2eacdfa8c5f9aede4c71a9bad0ee26a01dc5ead\n",
            "Successfully built seqeval\n",
            "Installing collected packages: conllu, seqeval\n",
            "Successfully installed conllu-6.0.0 seqeval-1.2.2\n"
          ]
        }
      ],
      "source": [
        "!pip install conllu seqeval\n"
      ]
    },
    {
      "cell_type": "code",
      "execution_count": null,
      "metadata": {
        "id": "Uw4zgRJwEaWZ"
      },
      "outputs": [],
      "source": [
        "from conllu import parse_incr\n",
        "from pathlib import Path\n",
        "\n",
        "def read_conllu(file_path):\n",
        "    sentences, tags = [], []\n",
        "    with open(file_path, \"r\", encoding=\"utf-8\") as f:\n",
        "        for tokenlist in parse_incr(f):\n",
        "            sentence, pos_tags = [], []\n",
        "            for token in tokenlist:\n",
        "                if isinstance(token['form'], str):\n",
        "                    sentence.append(token['form'])\n",
        "                    pos_tags.append(token['upostag'])\n",
        "            sentences.append(sentence)\n",
        "            tags.append(pos_tags)\n",
        "    return sentences, tags\n",
        "\n",
        "# Example usage\n",
        "train_sentences, train_tags = read_conllu(\"en_ewt-ud-train.conllu\")\n",
        "dev_sentences, dev_tags = read_conllu(\"en_ewt-ud-dev.conllu\")\n",
        "test_sentences, test_tags = read_conllu(\"en_ewt-ud-test.conllu\")\n"
      ]
    },
    {
      "cell_type": "code",
      "execution_count": null,
      "metadata": {
        "id": "oT8s8hsYE1wS"
      },
      "outputs": [],
      "source": [
        "from collections import defaultdict\n",
        "import torch\n",
        "\n",
        "PAD_TOKEN = \"<PAD>\"\n",
        "UNK_TOKEN = \"<UNK>\"\n",
        "\n",
        "def build_vocab(sentences, tags):\n",
        "    word_freq = defaultdict(int)\n",
        "    tag_set = set()\n",
        "\n",
        "    for sent, tag_seq in zip(sentences, tags):\n",
        "        for word, tag in zip(sent, tag_seq):\n",
        "            word_freq[word.lower()] += 1\n",
        "            tag_set.add(tag)\n",
        "\n",
        "    word2idx = {PAD_TOKEN: 0, UNK_TOKEN: 1}\n",
        "    for word in word_freq:\n",
        "        word2idx[word] = len(word2idx)\n",
        "\n",
        "    tag2idx = {PAD_TOKEN: 0}\n",
        "    for tag in sorted(tag_set):\n",
        "        tag2idx[tag] = len(tag2idx)\n",
        "\n",
        "    idx2tag = {i: t for t, i in tag2idx.items()}\n",
        "    return word2idx, tag2idx, idx2tag\n",
        "\n",
        "def encode(sentences, tags, word2idx, tag2idx, max_len=128):\n",
        "    encoded_sents, encoded_tags = [], []\n",
        "    for sent, tag_seq in zip(sentences, tags):\n",
        "        word_ids = [word2idx.get(word.lower(), word2idx[UNK_TOKEN]) for word in sent]\n",
        "        tag_ids = [tag2idx[tag] for tag in tag_seq]\n",
        "\n",
        "        # Padding\n",
        "        word_ids = word_ids[:max_len] + [word2idx[PAD_TOKEN]] * (max_len - len(word_ids))\n",
        "        tag_ids = tag_ids[:max_len] + [tag2idx[PAD_TOKEN]] * (max_len - len(tag_ids))\n",
        "\n",
        "        encoded_sents.append(word_ids)\n",
        "        encoded_tags.append(tag_ids)\n",
        "\n",
        "    return torch.tensor(encoded_sents), torch.tensor(encoded_tags)\n"
      ]
    },
    {
      "cell_type": "code",
      "execution_count": null,
      "metadata": {
        "id": "5spPoDaoE6qd"
      },
      "outputs": [],
      "source": [
        "word2idx, tag2idx, idx2tag = build_vocab(train_sentences, train_tags)\n",
        "\n",
        "X_train, y_train = encode(train_sentences, train_tags, word2idx, tag2idx)\n",
        "X_dev, y_dev = encode(dev_sentences, dev_tags, word2idx, tag2idx)\n",
        "X_test, y_test = encode(test_sentences, test_tags, word2idx, tag2idx)\n"
      ]
    },
    {
      "cell_type": "code",
      "execution_count": null,
      "metadata": {
        "colab": {
          "base_uri": "https://localhost:8080/"
        },
        "id": "bY3s4DM4FX2L",
        "outputId": "85e5af48-9eed-4d5e-c932-c401a750b42d"
      },
      "outputs": [
        {
          "name": "stdout",
          "output_type": "stream",
          "text": [
            "Collecting pytorch-crf\n",
            "  Downloading pytorch_crf-0.7.2-py3-none-any.whl.metadata (2.4 kB)\n",
            "Downloading pytorch_crf-0.7.2-py3-none-any.whl (9.5 kB)\n",
            "Installing collected packages: pytorch-crf\n",
            "Successfully installed pytorch-crf-0.7.2\n"
          ]
        }
      ],
      "source": [
        "!pip install pytorch-crf"
      ]
    },
    {
      "cell_type": "code",
      "execution_count": null,
      "metadata": {
        "id": "Q2GOVLVMFL6C"
      },
      "outputs": [],
      "source": [
        "import torch\n",
        "import torch.nn as nn\n",
        "from torchcrf import CRF  # install with: pip install pytorch-crf\n",
        "\n",
        "class BiLSTM_CRF(nn.Module):\n",
        "    def __init__(self, vocab_size, tagset_size, embedding_dim=100, hidden_dim=256, pad_idx=0):\n",
        "        super(BiLSTM_CRF, self).__init__()\n",
        "        self.embedding = nn.Embedding(vocab_size, embedding_dim, padding_idx=pad_idx)\n",
        "        self.lstm = nn.LSTM(embedding_dim, hidden_dim // 2, num_layers=1, bidirectional=True, batch_first=True)\n",
        "        self.hidden2tag = nn.Linear(hidden_dim, tagset_size)\n",
        "        self.crf = CRF(tagset_size, batch_first=True)\n",
        "\n",
        "    def forward(self, x, tags=None, mask=None):\n",
        "        embeds = self.embedding(x)\n",
        "        lstm_out, _ = self.lstm(embeds)\n",
        "        emissions = self.hidden2tag(lstm_out)\n",
        "\n",
        "        if tags is not None:\n",
        "            loss = -self.crf(emissions, tags, mask=mask, reduction='mean')\n",
        "            return loss\n",
        "        else:\n",
        "            return self.crf.decode(emissions, mask=mask)\n"
      ]
    },
    {
      "cell_type": "code",
      "execution_count": null,
      "metadata": {
        "id": "T_pPd0fyFgH3"
      },
      "outputs": [],
      "source": [
        "def create_mask(x, pad_idx=0):\n",
        "    return x != pad_idx\n"
      ]
    },
    {
      "cell_type": "code",
      "execution_count": null,
      "metadata": {
        "id": "gODGQgIDFjqJ"
      },
      "outputs": [],
      "source": [
        "def train_model(model, X_train, y_train, optimizer, tag_pad_idx, epochs=5):\n",
        "    model.train()\n",
        "    for epoch in range(epochs):\n",
        "        total_loss = 0\n",
        "        for i in range(len(X_train)):\n",
        "            x = X_train[i].unsqueeze(0)\n",
        "            y = y_train[i].unsqueeze(0)\n",
        "            mask = create_mask(x, pad_idx=0)\n",
        "\n",
        "            optimizer.zero_grad()\n",
        "            loss = model(x, y, mask=mask)\n",
        "            loss.backward()\n",
        "            optimizer.step()\n",
        "            total_loss += loss.item()\n",
        "        print(f\"Epoch {epoch + 1}, Loss: {total_loss:.4f}\")\n"
      ]
    },
    {
      "cell_type": "code",
      "execution_count": null,
      "metadata": {
        "id": "kitJszHFFmRB"
      },
      "outputs": [],
      "source": [
        "vocab_size = len(word2idx)\n",
        "tagset_size = len(tag2idx)\n",
        "pad_idx = word2idx[\"<PAD>\"]\n",
        "\n",
        "model = BiLSTM_CRF(vocab_size, tagset_size, pad_idx=pad_idx)\n",
        "optimizer = torch.optim.Adam(model.parameters(), lr=0.001)\n"
      ]
    },
    {
      "cell_type": "code",
      "execution_count": null,
      "metadata": {
        "id": "OuszatqEFt9J"
      },
      "outputs": [],
      "source": [
        "import torch.nn.functional as F\n",
        "\n",
        "def kl_divergence_with_logit(p_logit, q_logit):\n",
        "    p = F.softmax(p_logit, dim=-1)\n",
        "    log_p = F.log_softmax(p_logit, dim=-1)\n",
        "    log_q = F.log_softmax(q_logit, dim=-1)\n",
        "    return torch.sum(p * (log_p - log_q), dim=-1).mean()\n"
      ]
    },
    {
      "cell_type": "code",
      "execution_count": null,
      "metadata": {
        "id": "c3joasNvFv-z"
      },
      "outputs": [],
      "source": [
        "def compute_vat_loss(model, x, mask, xi=1e-6, epsilon=3.5, num_power_iter=1):\n",
        "    model.eval()\n",
        "    x = x.unsqueeze(0)\n",
        "    mask = mask.unsqueeze(0)\n",
        "\n",
        "    with torch.no_grad():\n",
        "        embeds = model.embedding(x)\n",
        "        lstm_out, _ = model.lstm(embeds)\n",
        "        orig_output = model.hidden2tag(lstm_out)\n",
        "\n",
        "    d = torch.randn_like(embeds)\n",
        "    for _ in range(num_power_iter):\n",
        "        d = xi * F.normalize(d, p=2, dim=-1)\n",
        "        d.requires_grad_()\n",
        "        perturbed_embeds = embeds + d\n",
        "        lstm_out_perturbed, _ = model.lstm(perturbed_embeds)\n",
        "        perturbed_output = model.hidden2tag(lstm_out_perturbed)\n",
        "        loss_kl = kl_divergence_with_logit(orig_output.detach(), perturbed_output)\n",
        "        grad, = torch.autograd.grad(loss_kl, [d], retain_graph=False)\n",
        "        d = grad.detach()\n",
        "\n",
        "    d = epsilon * F.normalize(d, p=2, dim=-1)\n",
        "    perturbed_embeds = embeds + d\n",
        "    lstm_out_perturbed, _ = model.lstm(perturbed_embeds)\n",
        "    perturbed_output = model.hidden2tag(lstm_out_perturbed)\n",
        "\n",
        "    vat_loss = kl_divergence_with_logit(orig_output.detach(), perturbed_output)\n",
        "    model.train()\n",
        "    return vat_loss\n"
      ]
    },
    {
      "cell_type": "code",
      "execution_count": null,
      "metadata": {
        "id": "I60K8LaEFzMB"
      },
      "outputs": [],
      "source": [
        "def train_model_vat(model, X_train, y_train, optimizer, tag_pad_idx, alpha=1.0, epochs=5):\n",
        "    model.train()\n",
        "    for epoch in range(epochs):\n",
        "        total_loss = 0\n",
        "        for i in range(len(X_train)):\n",
        "            x = X_train[i]\n",
        "            y = y_train[i]\n",
        "            mask = create_mask(x, pad_idx=0)\n",
        "\n",
        "            optimizer.zero_grad()\n",
        "            crf_loss = model(x.unsqueeze(0), y.unsqueeze(0), mask=mask.unsqueeze(0))\n",
        "            vat_loss = compute_vat_loss(model, x, mask)\n",
        "            loss = crf_loss + alpha * vat_loss\n",
        "\n",
        "            loss.backward()\n",
        "            optimizer.step()\n",
        "            total_loss += loss.item()\n",
        "        print(f\"Epoch {epoch + 1}, Loss: {total_loss:.4f}\")\n"
      ]
    },
    {
      "cell_type": "code",
      "execution_count": null,
      "metadata": {
        "colab": {
          "base_uri": "https://localhost:8080/"
        },
        "id": "EMD4TX04F2kD",
        "outputId": "ab971290-6edd-45d4-d05f-ee03862b91f6"
      },
      "outputs": [
        {
          "name": "stdout",
          "output_type": "stream",
          "text": [
            "Epoch 1, Loss: 90279.7352\n",
            "Epoch 2, Loss: 37909.6162\n",
            "Epoch 3, Loss: 19213.4517\n",
            "Epoch 4, Loss: 9782.7441\n",
            "Epoch 5, Loss: 6082.7846\n"
          ]
        }
      ],
      "source": [
        "train_model_vat(model, X_train, y_train, optimizer, tag_pad_idx=tag2idx[\"<PAD>\"], alpha=0.5, epochs=5)\n"
      ]
    },
    {
      "cell_type": "code",
      "execution_count": null,
      "metadata": {
        "colab": {
          "base_uri": "https://localhost:8080/"
        },
        "id": "xbaM5N4Ro58N",
        "outputId": "04a431ed-38b2-43d4-cd23-a8650b431379"
      },
      "outputs": [
        {
          "name": "stdout",
          "output_type": "stream",
          "text": [
            "              precision    recall  f1-score   support\n",
            "\n",
            "         ADJ       0.90      0.84      0.87      1794\n",
            "         ADP       0.95      0.95      0.95      2030\n",
            "         ADV       0.89      0.90      0.89      1183\n",
            "         AUX       0.98      0.98      0.98      1543\n",
            "       CCONJ       1.00      0.99      0.99       736\n",
            "         DET       0.99      0.99      0.99      1896\n",
            "        INTJ       0.84      0.80      0.82       121\n",
            "        NOUN       0.83      0.88      0.86      4123\n",
            "         NUM       0.93      0.64      0.76       542\n",
            "        PART       0.95      0.98      0.96       649\n",
            "        PRON       0.98      0.99      0.98      2166\n",
            "       PROPN       0.71      0.74      0.72      2076\n",
            "       PUNCT       0.99      0.99      0.99      3096\n",
            "       SCONJ       0.87      0.80      0.83       384\n",
            "         SYM       0.86      0.82      0.84       109\n",
            "        VERB       0.90      0.91      0.91      2606\n",
            "           X       0.13      0.05      0.07        42\n",
            "           _       0.99      0.99      0.99       354\n",
            "\n",
            "    accuracy                           0.91     25450\n",
            "   macro avg       0.87      0.85      0.86     25450\n",
            "weighted avg       0.91      0.91      0.91     25450\n",
            "\n"
          ]
        }
      ],
      "source": [
        "from sklearn.metrics import classification_report\n",
        "\n",
        "# Flatten true and predicted labels, excluding padding tokens\n",
        "y_true_flat = [tag for sent in y_true for tag in sent if tag != tag2idx[\"<PAD>\"]]\n",
        "y_pred_flat = [tag for sent in y_pred for tag in sent if tag != tag2idx[\"<PAD>\"]]\n",
        "\n",
        "# Extract all unique tags from true and predicted labels\n",
        "unique_tags = set(y_true_flat + y_pred_flat)\n",
        "\n",
        "# Exclude <PAD> tag\n",
        "unique_tags.discard(tag2idx[\"<PAD>\"])\n",
        "\n",
        "# Create a list of tag names corresponding to the unique tags\n",
        "target_names = [idx2tag[idx] for idx in unique_tags]\n",
        "\n",
        "# Generate classification report with labels explicitly set\n",
        "print(classification_report(y_true_flat, y_pred_flat, target_names=target_names))\n"
      ]
    },
    {
      "cell_type": "code",
      "execution_count": null,
      "metadata": {
        "colab": {
          "base_uri": "https://localhost:8080/"
        },
        "id": "HHxgwTvVnmTa",
        "outputId": "455b4280-5628-4c56-c88a-72789997c39c"
      },
      "outputs": [
        {
          "name": "stdout",
          "output_type": "stream",
          "text": [
            "Requirement already satisfied: scikit-learn in /usr/local/lib/python3.11/dist-packages (1.6.1)\n",
            "Requirement already satisfied: matplotlib in /usr/local/lib/python3.11/dist-packages (3.10.0)\n",
            "Requirement already satisfied: numpy>=1.19.5 in /usr/local/lib/python3.11/dist-packages (from scikit-learn) (2.0.2)\n",
            "Requirement already satisfied: scipy>=1.6.0 in /usr/local/lib/python3.11/dist-packages (from scikit-learn) (1.15.2)\n",
            "Requirement already satisfied: joblib>=1.2.0 in /usr/local/lib/python3.11/dist-packages (from scikit-learn) (1.4.2)\n",
            "Requirement already satisfied: threadpoolctl>=3.1.0 in /usr/local/lib/python3.11/dist-packages (from scikit-learn) (3.6.0)\n",
            "Requirement already satisfied: contourpy>=1.0.1 in /usr/local/lib/python3.11/dist-packages (from matplotlib) (1.3.2)\n",
            "Requirement already satisfied: cycler>=0.10 in /usr/local/lib/python3.11/dist-packages (from matplotlib) (0.12.1)\n",
            "Requirement already satisfied: fonttools>=4.22.0 in /usr/local/lib/python3.11/dist-packages (from matplotlib) (4.57.0)\n",
            "Requirement already satisfied: kiwisolver>=1.3.1 in /usr/local/lib/python3.11/dist-packages (from matplotlib) (1.4.8)\n",
            "Requirement already satisfied: packaging>=20.0 in /usr/local/lib/python3.11/dist-packages (from matplotlib) (24.2)\n",
            "Requirement already satisfied: pillow>=8 in /usr/local/lib/python3.11/dist-packages (from matplotlib) (11.2.1)\n",
            "Requirement already satisfied: pyparsing>=2.3.1 in /usr/local/lib/python3.11/dist-packages (from matplotlib) (3.2.3)\n",
            "Requirement already satisfied: python-dateutil>=2.7 in /usr/local/lib/python3.11/dist-packages (from matplotlib) (2.9.0.post0)\n",
            "Requirement already satisfied: six>=1.5 in /usr/local/lib/python3.11/dist-packages (from python-dateutil>=2.7->matplotlib) (1.17.0)\n"
          ]
        }
      ],
      "source": [
        "!pip install scikit-learn matplotlib\n"
      ]
    },
    {
      "cell_type": "code",
      "execution_count": null,
      "metadata": {
        "id": "WkVLWKdEnpE_"
      },
      "outputs": [],
      "source": [
        "from sklearn.metrics import confusion_matrix, ConfusionMatrixDisplay\n",
        "import matplotlib.pyplot as plt\n",
        "\n",
        "def flatten_labels(model, X, y, idx2tag, tag_pad_idx=0):\n",
        "    model.eval()\n",
        "    true_tags_flat = []\n",
        "    pred_tags_flat = []\n",
        "\n",
        "    with torch.no_grad():\n",
        "        for i in range(len(X)):\n",
        "            x = X[i].unsqueeze(0)\n",
        "            y_true = y[i]\n",
        "            mask = create_mask(x, pad_idx=tag_pad_idx)\n",
        "\n",
        "            y_pred = model(x, mask=mask)[0]  # list of ints\n",
        "\n",
        "            true_tags = [idx2tag[tag.item()] for tag, m in zip(y_true, mask[0]) if m]\n",
        "            pred_tags = [idx2tag[tag] for tag in y_pred]\n",
        "\n",
        "            true_tags_flat.extend(true_tags)\n",
        "            pred_tags_flat.extend(pred_tags)\n",
        "\n",
        "    return true_tags_flat, pred_tags_flat\n"
      ]
    },
    {
      "cell_type": "code",
      "execution_count": null,
      "metadata": {
        "id": "0BVzDVUOnr2m"
      },
      "outputs": [],
      "source": [
        "def plot_confusion(true_tags, pred_tags, labels):\n",
        "    cm = confusion_matrix(true_tags, pred_tags, labels=labels)\n",
        "    disp = ConfusionMatrixDisplay(confusion_matrix=cm, display_labels=labels)\n",
        "    fig, ax = plt.subplots(figsize=(10, 10))\n",
        "    disp.plot(ax=ax, xticks_rotation=45, cmap=\"Blues\")\n",
        "    plt.title(\"POS Tag Confusion Matrix\")\n",
        "    plt.show()\n"
      ]
    },
    {
      "cell_type": "code",
      "execution_count": null,
      "metadata": {
        "colab": {
          "base_uri": "https://localhost:8080/",
          "height": 815
        },
        "id": "4H_On_LcnuXi",
        "outputId": "42f88d7a-678c-4360-e8a6-7a51105eada9"
      },
      "outputs": [
        {
          "data": {
            "image/png": "[encoded data removed]",
            "text/plain": [
              "<Figure size 1000x1000 with 2 Axes>"
            ]
          },
          "metadata": {},
          "output_type": "display_data"
        }
      ],
      "source": [
        "true_flat, pred_flat = flatten_labels(model, X_test, y_test, idx2tag, tag_pad_idx=tag2idx[\"<PAD>\"])\n",
        "labels = list(tag2idx.keys())\n",
        "labels.remove(\"<PAD>\")  # remove pad tag from display\n",
        "plot_confusion(true_flat, pred_flat, labels)\n"
      ]
    },
    {
      "cell_type": "code",
      "execution_count": null,
      "metadata": {
        "colab": {
          "base_uri": "https://localhost:8080/"
        },
        "id": "AdAlHHz1T21M",
        "outputId": "c43d3966-4449-449e-907d-09190f871bb0"
      },
      "outputs": [
        {
          "name": "stdout",
          "output_type": "stream",
          "text": [
            "Requirement already satisfied: transformers in /usr/local/lib/python3.11/dist-packages (4.51.3)\n",
            "Requirement already satisfied: conllu in /usr/local/lib/python3.11/dist-packages (6.0.0)\n",
            "Requirement already satisfied: seqeval in /usr/local/lib/python3.11/dist-packages (1.2.2)\n",
            "Requirement already satisfied: scikit-learn in /usr/local/lib/python3.11/dist-packages (1.6.1)\n",
            "Requirement already satisfied: pytorch-crf in /usr/local/lib/python3.11/dist-packages (0.7.2)\n",
            "Requirement already satisfied: filelock in /usr/local/lib/python3.11/dist-packages (from transformers) (3.18.0)\n",
            "Requirement already satisfied: huggingface-hub<1.0,>=0.30.0 in /usr/local/lib/python3.11/dist-packages (from transformers) (0.30.2)\n",
            "Requirement already satisfied: numpy>=1.17 in /usr/local/lib/python3.11/dist-packages (from transformers) (2.0.2)\n",
            "Requirement already satisfied: packaging>=20.0 in /usr/local/lib/python3.11/dist-packages (from transformers) (24.2)\n",
            "Requirement already satisfied: pyyaml>=5.1 in /usr/local/lib/python3.11/dist-packages (from transformers) (6.0.2)\n",
            "Requirement already satisfied: regex!=2019.12.17 in /usr/local/lib/python3.11/dist-packages (from transformers) (2024.11.6)\n",
            "Requirement already satisfied: requests in /usr/local/lib/python3.11/dist-packages (from transformers) (2.32.3)\n",
            "Requirement already satisfied: tokenizers<0.22,>=0.21 in /usr/local/lib/python3.11/dist-packages (from transformers) (0.21.1)\n",
            "Requirement already satisfied: safetensors>=0.4.3 in /usr/local/lib/python3.11/dist-packages (from transformers) (0.5.3)\n",
            "Requirement already satisfied: tqdm>=4.27 in /usr/local/lib/python3.11/dist-packages (from transformers) (4.67.1)\n",
            "Requirement already satisfied: scipy>=1.6.0 in /usr/local/lib/python3.11/dist-packages (from scikit-learn) (1.15.2)\n",
            "Requirement already satisfied: joblib>=1.2.0 in /usr/local/lib/python3.11/dist-packages (from scikit-learn) (1.4.2)\n",
            "Requirement already satisfied: threadpoolctl>=3.1.0 in /usr/local/lib/python3.11/dist-packages (from scikit-learn) (3.6.0)\n",
            "Requirement already satisfied: fsspec>=2023.5.0 in /usr/local/lib/python3.11/dist-packages (from huggingface-hub<1.0,>=0.30.0->transformers) (2025.3.2)\n",
            "Requirement already satisfied: typing-extensions>=3.7.4.3 in /usr/local/lib/python3.11/dist-packages (from huggingface-hub<1.0,>=0.30.0->transformers) (4.13.2)\n",
            "Requirement already satisfied: charset-normalizer<4,>=2 in /usr/local/lib/python3.11/dist-packages (from requests->transformers) (3.4.1)\n",
            "Requirement already satisfied: idna<4,>=2.5 in /usr/local/lib/python3.11/dist-packages (from requests->transformers) (3.10)\n",
            "Requirement already satisfied: urllib3<3,>=1.21.1 in /usr/local/lib/python3.11/dist-packages (from requests->transformers) (2.4.0)\n",
            "Requirement already satisfied: certifi>=2017.4.17 in /usr/local/lib/python3.11/dist-packages (from requests->transformers) (2025.1.31)\n"
          ]
        }
      ],
      "source": [
        "!pip install transformers conllu seqeval scikit-learn pytorch-crf\n"
      ]
    },
    {
      "cell_type": "code",
      "execution_count": null,
      "metadata": {
        "id": "3EkPcICXT6qj"
      },
      "outputs": [],
      "source": [
        "from conllu import parse_incr\n",
        "\n",
        "def read_conllu(file_path):\n",
        "    sentences, tags = [], []\n",
        "    with open(file_path, \"r\", encoding=\"utf-8\") as f:\n",
        "        for tokenlist in parse_incr(f):\n",
        "            sentence, pos_tags = [], []\n",
        "            for token in tokenlist:\n",
        "                if isinstance(token['form'], str):\n",
        "                    sentence.append(token['form'])\n",
        "                    pos_tags.append(token['upostag'])\n",
        "            sentences.append(sentence)\n",
        "            tags.append(pos_tags)\n",
        "    return sentences, tags\n",
        "\n",
        "# Upload .conllu files first\n",
        "train_sentences, train_tags = read_conllu(\"/content/en_ewt-ud-train.conllu\")\n",
        "val_sentences, val_tags = read_conllu(\"/content/en_ewt-ud-dev.conllu\")\n",
        "test_sentences, test_tags = read_conllu(\"/content/en_ewt-ud-test.conllu\")\n"
      ]
    },
    {
      "cell_type": "code",
      "execution_count": null,
      "metadata": {
        "id": "SL6a-l8hUEFW"
      },
      "outputs": [],
      "source": [
        "def build_tag_map(tags):\n",
        "    tag_set = sorted({tag for seq in tags for tag in seq})\n",
        "    tag_set.append(\"<PAD>\")\n",
        "    tag2idx = {tag: i for i, tag in enumerate(tag_set)}\n",
        "    idx2tag = {i: tag for tag, i in tag2idx.items()}\n",
        "    return tag2idx, idx2tag\n",
        "\n",
        "tag2idx, idx2tag = build_tag_map(train_tags)\n"
      ]
    },
    {
      "cell_type": "code",
      "execution_count": null,
      "metadata": {
        "colab": {
          "base_uri": "https://localhost:8080/"
        },
        "id": "Zfdu_9H0UGL9",
        "outputId": "2eb52ce6-8281-44bc-fa41-a86bf9680d19"
      },
      "outputs": [
        {
          "name": "stderr",
          "output_type": "stream",
          "text": [
            "/usr/local/lib/python3.11/dist-packages/huggingface_hub/utils/_auth.py:94: UserWarning: \n",
            "The secret `HF_TOKEN` does not exist in your Colab secrets.\n",
            "To authenticate with the Hugging Face Hub, create a token in your settings tab (https://huggingface.co/settings/tokens), set it as secret in your Google Colab and restart your session.\n",
            "You will be able to reuse this secret in all of your notebooks.\n",
            "Please note that authentication is recommended but still optional to access public models or datasets.\n",
            "  warnings.warn(\n"
          ]
        }
      ],
      "source": [
        "from transformers import BertTokenizerFast\n",
        "import torch\n",
        "\n",
        "tokenizer = BertTokenizerFast.from_pretrained(\"bert-base-cased\")\n",
        "\n",
        "def tokenize_and_align(sentences, tags, tag2idx):\n",
        "    encoded = tokenizer(sentences,\n",
        "                        is_split_into_words=True,\n",
        "                        return_offsets_mapping=True,\n",
        "                        padding=True,\n",
        "                        truncation=True,\n",
        "                        return_tensors=\"pt\")\n",
        "    labels = []\n",
        "    for i, label in enumerate(tags):\n",
        "        word_ids = encoded.word_ids(batch_index=i)\n",
        "        label_ids = []\n",
        "        previous_word_idx = None\n",
        "        for word_idx in word_ids:\n",
        "            if word_idx is None:\n",
        "                label_ids.append(tag2idx[\"<PAD>\"])\n",
        "            elif word_idx != previous_word_idx:\n",
        "                label_ids.append(tag2idx[label[word_idx]])\n",
        "            else:\n",
        "                label_ids.append(tag2idx[\"<PAD>\"])\n",
        "            previous_word_idx = word_idx\n",
        "        labels.append(label_ids)\n",
        "    encoded[\"labels\"] = torch.tensor(labels)\n",
        "    return encoded\n",
        "\n",
        "train_data = tokenize_and_align(train_sentences[:1000], train_tags[:1000], tag2idx)  # slice for speed\n",
        "val_data = tokenize_and_align(val_sentences, val_tags, tag2idx)\n",
        "test_data = tokenize_and_align(test_sentences, test_tags, tag2idx)\n"
      ]
    },
    {
      "cell_type": "code",
      "execution_count": null,
      "metadata": {
        "id": "jYJZkAeQUIa8"
      },
      "outputs": [],
      "source": [
        "import torch.nn as nn\n",
        "from torchcrf import CRF\n",
        "from transformers import BertModel\n",
        "\n",
        "class BERT_CRF_VAT(nn.Module):\n",
        "    def __init__(self, tagset_size):\n",
        "        super(BERT_CRF_VAT, self).__init__()\n",
        "        self.bert = BertModel.from_pretrained(\"bert-base-cased\")\n",
        "        self.hidden2tag = nn.Linear(self.bert.config.hidden_size, tagset_size)\n",
        "        self.crf = CRF(tagset_size, batch_first=True)\n",
        "\n",
        "    def forward(self, input_ids, attention_mask, labels=None):\n",
        "        outputs = self.bert(input_ids=input_ids, attention_mask=attention_mask)\n",
        "        emissions = self.hidden2tag(outputs.last_hidden_state)\n",
        "        mask = attention_mask.bool()\n",
        "\n",
        "        if labels is not None:\n",
        "            loss = -self.crf(emissions, labels, mask=mask, reduction='mean')\n",
        "            return loss\n",
        "        else:\n",
        "            return self.crf.decode(emissions, mask=mask)\n"
      ]
    },
    {
      "cell_type": "code",
      "execution_count": null,
      "metadata": {
        "id": "j6NQIwoTUKwK"
      },
      "outputs": [],
      "source": [
        "import torch.nn.functional as F\n",
        "\n",
        "def vat_loss(model, input_ids, attention_mask, xi=1e-6, eps=2.0):\n",
        "    model.eval()\n",
        "    embeds = model.bert.embeddings(input_ids)\n",
        "    embeds.requires_grad_()\n",
        "\n",
        "    with torch.enable_grad():\n",
        "        outputs = model.bert(inputs_embeds=embeds, attention_mask=attention_mask)\n",
        "        logits = model.hidden2tag(outputs.last_hidden_state).detach()\n",
        "        soft = F.softmax(logits, dim=-1)\n",
        "\n",
        "        d = torch.randn_like(embeds)\n",
        "        d = xi * F.normalize(d, p=2, dim=-1)\n",
        "        perturbed = embeds + d\n",
        "\n",
        "        perturbed_out = model.bert(inputs_embeds=perturbed, attention_mask=attention_mask)\n",
        "        perturbed_logits = model.hidden2tag(perturbed_out.last_hidden_state)\n",
        "        perturbed_soft = F.log_softmax(perturbed_logits, dim=-1)\n",
        "\n",
        "        return F.kl_div(perturbed_soft, soft, reduction=\"batchmean\")\n"
      ]
    },
    {
      "cell_type": "code",
      "execution_count": null,
      "metadata": {
        "colab": {
          "base_uri": "https://localhost:8080/"
        },
        "id": "kVMXY2ScUM8f",
        "outputId": "ad4d273e-9d7a-4aa8-a5ab-f5cc0b5897e0"
      },
      "outputs": [
        {
          "name": "stdout",
          "output_type": "stream",
          "text": [
            "Epoch 1: Loss = 4452.0421\n",
            "Epoch 2: Loss = 479.7313\n",
            "Epoch 3: Loss = 144.5396\n"
          ]
        }
      ],
      "source": [
        "from torch.utils.data import DataLoader, TensorDataset\n",
        "\n",
        "device = torch.device(\"cuda\" if torch.cuda.is_available() else \"cpu\")\n",
        "model = BERT_CRF_VAT(len(tag2idx)).to(device)\n",
        "optimizer = torch.optim.AdamW(model.parameters(), lr=2e-5)\n",
        "\n",
        "train_dataset = TensorDataset(train_data[\"input_ids\"], train_data[\"attention_mask\"], train_data[\"labels\"])\n",
        "train_loader = DataLoader(train_dataset, batch_size=4, shuffle=True)  # use smaller batch for stability\n",
        "\n",
        "for epoch in range(3):\n",
        "    model.train()\n",
        "    total_loss = 0\n",
        "    for batch in train_loader:\n",
        "        input_ids, attention_mask, labels = [b.to(device) for b in batch]\n",
        "        optimizer.zero_grad()\n",
        "        loss = model(input_ids, attention_mask, labels)\n",
        "        try:\n",
        "            adv_loss = vat_loss(model, input_ids, attention_mask)\n",
        "            total = loss + 0.5 * adv_loss\n",
        "        except Exception as e:\n",
        "            print(\"VAT failed, using only CRF loss\")\n",
        "            total = loss\n",
        "        total.backward()\n",
        "        optimizer.step()\n",
        "        total_loss += total.item()\n",
        "    print(f\"Epoch {epoch+1}: Loss = {total_loss:.4f}\")\n"
      ]
    },
    {
      "cell_type": "code",
      "execution_count": null,
      "metadata": {
        "colab": {
          "background_save": true
        },
        "id": "AyDY-WMPUxE_",
        "outputId": "ed65c09c-4373-4717-9393-30d6bacf34cb"
      },
      "outputs": [
        {
          "name": "stderr",
          "output_type": "stream",
          "text": [
            "/usr/local/lib/python3.11/dist-packages/seqeval/metrics/sequence_labeling.py:171: UserWarning: PRON seems not to be NE tag.\n",
            "  warnings.warn('{} seems not to be NE tag.'.format(chunk))\n",
            "/usr/local/lib/python3.11/dist-packages/seqeval/metrics/sequence_labeling.py:171: UserWarning: SCONJ seems not to be NE tag.\n",
            "  warnings.warn('{} seems not to be NE tag.'.format(chunk))\n",
            "/usr/local/lib/python3.11/dist-packages/seqeval/metrics/sequence_labeling.py:171: UserWarning: PROPN seems not to be NE tag.\n",
            "  warnings.warn('{} seems not to be NE tag.'.format(chunk))\n",
            "/usr/local/lib/python3.11/dist-packages/seqeval/metrics/sequence_labeling.py:171: UserWarning: VERB seems not to be NE tag.\n",
            "  warnings.warn('{} seems not to be NE tag.'.format(chunk))\n",
            "/usr/local/lib/python3.11/dist-packages/seqeval/metrics/sequence_labeling.py:171: UserWarning: ADP seems not to be NE tag.\n",
            "  warnings.warn('{} seems not to be NE tag.'.format(chunk))\n",
            "/usr/local/lib/python3.11/dist-packages/seqeval/metrics/sequence_labeling.py:171: UserWarning: PUNCT seems not to be NE tag.\n",
            "  warnings.warn('{} seems not to be NE tag.'.format(chunk))\n",
            "/usr/local/lib/python3.11/dist-packages/seqeval/metrics/sequence_labeling.py:171: UserWarning: NOUN seems not to be NE tag.\n",
            "  warnings.warn('{} seems not to be NE tag.'.format(chunk))\n",
            "/usr/local/lib/python3.11/dist-packages/seqeval/metrics/sequence_labeling.py:171: UserWarning: CCONJ seems not to be NE tag.\n",
            "  warnings.warn('{} seems not to be NE tag.'.format(chunk))\n",
            "/usr/local/lib/python3.11/dist-packages/seqeval/metrics/sequence_labeling.py:171: UserWarning: ADV seems not to be NE tag.\n",
            "  warnings.warn('{} seems not to be NE tag.'.format(chunk))\n",
            "/usr/local/lib/python3.11/dist-packages/seqeval/metrics/sequence_labeling.py:171: UserWarning: DET seems not to be NE tag.\n",
            "  warnings.warn('{} seems not to be NE tag.'.format(chunk))\n",
            "/usr/local/lib/python3.11/dist-packages/seqeval/metrics/sequence_labeling.py:171: UserWarning: ADJ seems not to be NE tag.\n",
            "  warnings.warn('{} seems not to be NE tag.'.format(chunk))\n",
            "/usr/local/lib/python3.11/dist-packages/seqeval/metrics/sequence_labeling.py:171: UserWarning: AUX seems not to be NE tag.\n",
            "  warnings.warn('{} seems not to be NE tag.'.format(chunk))\n",
            "/usr/local/lib/python3.11/dist-packages/seqeval/metrics/sequence_labeling.py:171: UserWarning: _ seems not to be NE tag.\n",
            "  warnings.warn('{} seems not to be NE tag.'.format(chunk))\n",
            "/usr/local/lib/python3.11/dist-packages/seqeval/metrics/sequence_labeling.py:171: UserWarning: PART seems not to be NE tag.\n",
            "  warnings.warn('{} seems not to be NE tag.'.format(chunk))\n",
            "/usr/local/lib/python3.11/dist-packages/seqeval/metrics/sequence_labeling.py:171: UserWarning: NUM seems not to be NE tag.\n",
            "  warnings.warn('{} seems not to be NE tag.'.format(chunk))\n",
            "/usr/local/lib/python3.11/dist-packages/seqeval/metrics/sequence_labeling.py:171: UserWarning: SYM seems not to be NE tag.\n",
            "  warnings.warn('{} seems not to be NE tag.'.format(chunk))\n",
            "/usr/local/lib/python3.11/dist-packages/seqeval/metrics/sequence_labeling.py:171: UserWarning: INTJ seems not to be NE tag.\n",
            "  warnings.warn('{} seems not to be NE tag.'.format(chunk))\n",
            "/usr/local/lib/python3.11/dist-packages/seqeval/metrics/sequence_labeling.py:171: UserWarning: X seems not to be NE tag.\n",
            "  warnings.warn('{} seems not to be NE tag.'.format(chunk))\n",
            "/usr/local/lib/python3.11/dist-packages/seqeval/metrics/sequence_labeling.py:171: UserWarning: <PAD> seems not to be NE tag.\n",
            "  warnings.warn('{} seems not to be NE tag.'.format(chunk))\n",
            "/usr/local/lib/python3.11/dist-packages/seqeval/metrics/v1.py:57: UndefinedMetricWarning: Recall and F-score are ill-defined and being set to 0.0 in labels with no true samples. Use `zero_division` parameter to control this behavior.\n",
            "  _warn_prf(average, modifier, msg_start, len(result))\n"
          ]
        },
        {
          "name": "stdout",
          "output_type": "stream",
          "text": [
            "              precision    recall  f1-score   support\n",
            "\n",
            "         ART       0.98      0.98      0.98       645\n",
            "        CONJ       0.96      0.98      0.97      1108\n",
            "          DJ       0.91      0.89      0.90      1699\n",
            "          DP       0.97      0.96      0.96      1969\n",
            "          DV       0.86      0.90      0.88      1085\n",
            "         ERB       0.97      0.96      0.97      2570\n",
            "          ET       0.99      0.99      0.99      1873\n",
            "         NTJ       0.66      0.67      0.67       118\n",
            "         OUN       0.88      0.91      0.89      3564\n",
            "        PAD>       0.00      0.00      0.00         0\n",
            "         RON       0.99      0.99      0.99      2126\n",
            "        ROPN       0.82      0.78      0.80      1570\n",
            "          UM       0.93      0.91      0.92       500\n",
            "        UNCT       0.98      0.98      0.98      2967\n",
            "          UX       0.97      0.99      0.98      1422\n",
            "          YM       0.77      0.18      0.30       109\n",
            "           _       0.92      0.86      0.89       368\n",
            "\n",
            "   micro avg       0.93      0.94      0.93     23693\n",
            "   macro avg       0.86      0.82      0.83     23693\n",
            "weighted avg       0.94      0.94      0.94     23693\n",
            "\n"
          ]
        }
      ],
      "source": [
        "from seqeval.metrics import classification_report\n",
        "\n",
        "def evaluate(model, data, idx2tag):\n",
        "    model.eval()\n",
        "    preds, labels = [], []\n",
        "    for i in range(len(data[\"input_ids\"])):\n",
        "        input_ids = data[\"input_ids\"][i].unsqueeze(0).to(device)\n",
        "        attention_mask = data[\"attention_mask\"][i].unsqueeze(0).to(device)\n",
        "        label_ids = data[\"labels\"][i]\n",
        "        pred_ids = model(input_ids, attention_mask)[0]\n",
        "        true = [idx2tag[l.item()] for l, p in zip(label_ids, pred_ids) if l.item() != tag2idx[\"<PAD>\"]]\n",
        "        pred = [idx2tag[p] for l, p in zip(label_ids, pred_ids) if l.item() != tag2idx[\"<PAD>\"]]\n",
        "        labels.append(true)\n",
        "        preds.append(pred)\n",
        "    print(classification_report(labels, preds))\n",
        "\n",
        "evaluate(model, test_data, idx2tag)\n"
      ]
    }
  ],
  "metadata": {
    "colab": {
      "provenance": []
    },
    "kernelspec": {
      "display_name": "Python 3",
      "name": "python3"
    },
    "language_info": {
      "name": "python"
    }
  },
  "nbformat": 4,
  "nbformat_minor": 0
}